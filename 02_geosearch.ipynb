{
  "cells": [
    {
      "cell_type": "markdown",
      "metadata": {
        "id": "view-in-github",
        "colab_type": "text"
      },
      "source": [
        "<a href=\"https://colab.research.google.com/github/Jino1907/Geo_tagged_tweets_visualization.github.io/blob/main/02_geosearch.ipynb\" target=\"_parent\"><img src=\"https://colab.research.google.com/assets/colab-badge.svg\" alt=\"Open In Colab\"/></a>"
      ]
    },
    {
      "cell_type": "code",
      "execution_count": 1,
      "metadata": {
        "id": "EtnaSlH-wplB"
      },
      "outputs": [],
      "source": [
        "# created on Dec 24, 2020\n",
        "# modified on April 12, 2022\n",
        "# @author:          Bo Zhao\n",
        "# @email:           zhaobo@uw.edu\n",
        "# @website:         https://hgis.uw.edu\n",
        "# @organization:    Department of Geography, University of Washington, Seattle\n",
        "# @description:     Search geo-tagged tweets within the U.S. This script is modified from https://github.com/shawn-terryah/Twitter_Geolocation"
      ]
    },
    {
      "cell_type": "code",
      "execution_count": 2,
      "metadata": {
        "id": "f-bMdKMawxnQ",
        "colab": {
          "base_uri": "https://localhost:8080/"
        },
        "outputId": "9ca22012-b2c4-4446-94d6-050d528efe00"
      },
      "outputs": [
        {
          "output_type": "stream",
          "name": "stdout",
          "text": [
            "Mounted at /gdrive\n"
          ]
        }
      ],
      "source": [
        "import tweepy, json, time\n",
        "import pandas as pd\n",
        "from google.colab import files\n",
        "# Create data on to Google Drive\n",
        "from google.colab import drive\n",
        "# Mount your Drive to the Colab VM.\n",
        "drive.mount('/gdrive')"
      ]
    },
    {
      "cell_type": "code",
      "execution_count": 3,
      "metadata": {
        "id": "dEyPts-ZwplE"
      },
      "outputs": [],
      "source": [
        "class StreamListener(tweepy.StreamListener):\n",
        "    \"\"\"tweepy.StreamListener is a class provided by tweepy used to access\n",
        "    the Twitter Streaming API to collect tweets in real-time.\n",
        "    \"\"\"\n",
        "\n",
        "    def __init__(self, time_limit=60, file=\"\"):\n",
        "        \"\"\"class initialization\"\"\"\n",
        "        self.start_time = time.time()\n",
        "        self.limit = time_limit\n",
        "        self.result = []\n",
        "        self.f = file\n",
        "        super(StreamListener, self).__init__()\n",
        "\n",
        "    def on_data(self, data):\n",
        "        \"\"\"This is called when data are streamed in.\"\"\"\n",
        "        if (time.time() - self.start_time) < self.limit:\n",
        "            datajson = json.loads(data)\n",
        "            # print(datajson, \"\\n\")\n",
        "            if 'id' not in datajson.keys():\n",
        "                time.sleep(10)\n",
        "            else:\n",
        "                id = datajson['id']\n",
        "                username = datajson['user']['screen_name']\n",
        "                created_at = datajson['created_at']\n",
        "                text = datajson['text'].strip().replace(\"\\n\", \"\")\n",
        "\n",
        "                # process the geo-tags\n",
        "                if datajson['coordinates'] == None:\n",
        "                    try:\n",
        "                        bbox = datajson['place']['bounding_box']['coordinates'][0]\n",
        "                        lng = (bbox[0][0] + bbox[2][0]) / 2.0\n",
        "                        lat = (bbox[0][1] + bbox[1][1]) / 2.0\n",
        "                    except:\n",
        "                        lat = 0\n",
        "                        lng = 0\n",
        "                else:\n",
        "                    lng = datajson['coordinates']['coordinates'][0]\n",
        "                    lat = datajson['coordinates']['coordinates'][1]\n",
        "\n",
        "                if lat != 0:\n",
        "                    row = {\n",
        "                        'id': id,\n",
        "                        'username': username,\n",
        "                        'created_at': created_at,\n",
        "                        'lng': lng,\n",
        "                        'lat': lat,\n",
        "                        'text': text\n",
        "                    }\n",
        "                    print(row)\n",
        "                    self.result.append(row)\n",
        "                else:\n",
        "                    pass\n",
        "        else:\n",
        "            df = pd.DataFrame(self.result)\n",
        "            df.to_csv(self.f, index=False)\n",
        "            # download the csv to your local computer\n",
        "            files.download(self.f)\n",
        "            print(\"the csv has been downloaded to your local computer. The program has been completed successfully.\")\n",
        "            return False"
      ]
    },
    {
      "cell_type": "code",
      "execution_count": 4,
      "metadata": {
        "id": "5Xzyo_OiwplG",
        "colab": {
          "base_uri": "https://localhost:8080/",
          "height": 1000
        },
        "outputId": "65292194-5fe0-46e8-9336-173e05d9ca77"
      },
      "outputs": [
        {
          "output_type": "stream",
          "name": "stdout",
          "text": [
            "{'id': 1517607506385596417, 'username': 'JohannBerg', 'created_at': 'Fri Apr 22 20:53:19 +0000 2022', 'lng': -114.087851, 'lat': 51.027664, 'text': \"@MarissaOchsner Guess you won't be walking on the sun\"}\n",
            "{'id': 1517607571435048965, 'username': 'safensoundfest', 'created_at': 'Fri Apr 22 20:53:35 +0000 2022', 'lng': -122.917508, 'lat': 49.2067515, 'text': 'Who’s tryna party with us? We’re coming in with some heavy hitters this year 🔥 Buckle up, because it’s going to get… https://t.co/N0nu4PtkaG'}\n",
            "{'id': 1517607655316987904, 'username': 'mandy_rushton', 'created_at': 'Fri Apr 22 20:53:55 +0000 2022', 'lng': -123.13083649999999, 'lat': 49.1742415, 'text': 'April 22, 2022Happy Earth Day! Let your heart swell with gratitude for the place we call home.Warmly,The Good Trade Team'}\n",
            "{'id': 1517607662292135942, 'username': 'slav_metalurges', 'created_at': 'Fri Apr 22 20:53:57 +0000 2022', 'lng': -113.4926175, 'lat': 53.5558195, 'text': 'This except Thirteen.'}\n",
            "{'id': 1517607699625791488, 'username': 'miguelsworld01', 'created_at': 'Fri Apr 22 20:54:06 +0000 2022', 'lng': -57.902077000000006, 'lat': 48.936189, 'text': '@mindyonrye I am happy you found your father, and thank you for sharing😌.'}\n",
            "{'id': 1517607705099128832, 'username': '_JoeSeppi', 'created_at': 'Fri Apr 22 20:54:07 +0000 2022', 'lng': -114.14326249999999, 'lat': 45.4945515, 'text': '@MRMENACE231 Bro they make fleece lined ones'}\n",
            "{'id': 1517607707729178630, 'username': 'ailawrence', 'created_at': 'Fri Apr 22 20:54:07 +0000 2022', 'lng': -57.6840995, 'lat': 48.9503115, 'text': '@WBrettWilson @FreshHoods Ok, so call me confused...@W.BrettWilson , you liked this statement made by @mizdefiant a… https://t.co/FhVi7y8UIc'}\n",
            "{'id': 1517607736866836480, 'username': 'LuisePanrucker', 'created_at': 'Fri Apr 22 20:54:14 +0000 2022', 'lng': -122.75264849999999, 'lat': 53.9279525, 'text': \"Luisesman found #ethereum in a Blue vault at this location! Join me playing #coinhuntworld, It's awesome!… https://t.co/O11ahzf8HK\"}\n",
            "{'id': 1517607751538470912, 'username': 'ScottJurgens', 'created_at': 'Fri Apr 22 20:54:18 +0000 2022', 'lng': -114.14326249999999, 'lat': 45.4945515, 'text': '@Super70sSports The ultimate homework distractor of all time.'}\n",
            "{'id': 1517607767883755520, 'username': 'Troy_A_Hale', 'created_at': 'Fri Apr 22 20:54:22 +0000 2022', 'lng': -110.70934, 'lat': 50.0511765, 'text': '@CdnVampiress @CanadasLifeline My pleasure Sharon! 😊'}\n",
            "{'id': 1517607785298489345, 'username': 'chef_milky', 'created_at': 'Fri Apr 22 20:54:26 +0000 2022', 'lng': -104.4963, 'lat': 50.942207, 'text': 'Just posted a photo @ Carzan Local Market https://t.co/hQmEQEwix2'}\n",
            "{'id': 1517607793800269824, 'username': 'RathNatasatch', 'created_at': 'Fri Apr 22 20:54:28 +0000 2022', 'lng': -114.14326249999999, 'lat': 45.4945515, 'text': \"I currently don't have #Netflix and this would be a deal breaker for me ever getting it, and if any of the companie… https://t.co/vrZy99a1O3\"}\n",
            "{'id': 1517607800267976704, 'username': 'KellyWilsonVO', 'created_at': 'Fri Apr 22 20:54:30 +0000 2022', 'lng': -120.882482, 'lat': 47.273022, 'text': '@belindagosbee Nice!'}\n",
            "{'id': 1517607804491628544, 'username': 'ChrisRWiebe', 'created_at': 'Fri Apr 22 20:54:31 +0000 2022', 'lng': -96.6736685, 'lat': 49.708451, 'text': 'Your reminder that the MB PCs are:(1) Cutting PSE funding(2) Raising tuition(3) Bullying faculty &amp; staff unions… https://t.co/2jizH4SqXT'}\n",
            "{'id': 1517607804822904837, 'username': 'BartTheHusky', 'created_at': 'Fri Apr 22 20:54:31 +0000 2022', 'lng': -120.882482, 'lat': 47.273022, 'text': '@Rubberasylum You use telegram? Can slip you my name if youd wanna connect off here :p'}\n",
            "{'id': 1517607847449829376, 'username': 'xlostasfoundx', 'created_at': 'Fri Apr 22 20:54:41 +0000 2022', 'lng': -97.1526765, 'lat': 49.8538055, 'text': 'What Happens When You Platinum The Entire Mega Man X Legacy Collection 1 and 2, and Dark Souls?Is That Not Braggi… https://t.co/yFOB3e0wGO'}\n",
            "{'id': 1517607876251979777, 'username': 'Troy_A_Hale', 'created_at': 'Fri Apr 22 20:54:48 +0000 2022', 'lng': -110.70934, 'lat': 50.0511765, 'text': '@CanadasLifeline Looking forward to 100! 😉'}\n",
            "{'id': 1517607885122932736, 'username': 'jennsmithnelson', 'created_at': 'Fri Apr 22 20:54:50 +0000 2022', 'lng': -104.640894, 'lat': 50.455136, 'text': '@AngieTo00213498 @dbgphx Thank you!'}\n",
            "{'id': 1517607914545893376, 'username': 'mandy_rushton', 'created_at': 'Fri Apr 22 20:54:57 +0000 2022', 'lng': -123.13083649999999, 'lat': 49.1742415, 'text': 'I just scored 72 points in the Daily @BroadwayWorld Word Game! Game - 4/22/2022 🌟🌟🌟⭐⭐  https://t.co/6hEybyvJ9o'}\n",
            "{'id': 1517607938793218049, 'username': 'Poncarose1', 'created_at': 'Fri Apr 22 20:55:03 +0000 2022', 'lng': -120.882482, 'lat': 47.273022, 'text': \"“Bitch, if I was as half as good as I wasI'm still twice as good as you'll ever be” https://t.co/lje7QxVGF8\"}\n",
            "{'id': 1517607980740448256, 'username': 'pcryan5', 'created_at': 'Fri Apr 22 20:55:13 +0000 2022', 'lng': -123.123581, 'lat': 49.257639, 'text': '@Limbictweets She won’t win. This time.'}\n",
            "{'id': 1517608050110083073, 'username': 'IsisWise', 'created_at': 'Fri Apr 22 20:55:29 +0000 2022', 'lng': -123.123581, 'lat': 49.257639, 'text': '@barbetta1 @globalnews Exhibit A: Gerald Chipeur (lawyer)👀Exhibit B: Pierre Poilievre 👀 https://t.co/VNtRrqTcNF'}\n",
            "{'id': 1517608053394186243, 'username': 'keiishaxo', 'created_at': 'Fri Apr 22 20:55:30 +0000 2022', 'lng': -122.75264849999999, 'lat': 53.9279525, 'text': 'thank you @Northern_Health for doing the responsible &gt;&gt;RESPECTFUL&lt;&lt; thing and notifying the public about this. this… https://t.co/Od772CGsuQ'}\n",
            "{'id': 1517608076785831936, 'username': 'Stu_QPR', 'created_at': 'Fri Apr 22 20:55:35 +0000 2022', 'lng': -123.13083649999999, 'lat': 49.1742415, 'text': '@TommyWTF1 And? More points, better car, 2nd in the WDC and getting paid more. I’m sure he’s gutted'}\n",
            "{'id': 1517608156997763074, 'username': 'FHHacks', 'created_at': 'Fri Apr 22 20:55:55 +0000 2022', 'lng': -96.3073065, 'lat': 65.8381145, 'text': '@ItsFoShoJohnnyE @tai_chi67 @bruceguenther Smiddy battles.👇🤯#LetsGoOilers'}\n",
            "{'id': 1517608163742154752, 'username': 'onisoyyc', 'created_at': 'Fri Apr 22 20:55:56 +0000 2022', 'lng': -114.087851, 'lat': 51.027664, 'text': 'Yessirr!!!😤 https://t.co/z3u0YIunTd'}\n",
            "{'id': 1517608166954987520, 'username': 'Richardegleston', 'created_at': 'Fri Apr 22 20:55:57 +0000 2022', 'lng': -113.121093, 'lat': 53.6239735, 'text': '@itsbrritt Are they flammable or INflammable?'}\n",
            "{'id': 1517608193932759040, 'username': 'FraserCrew', 'created_at': 'Fri Apr 22 20:56:03 +0000 2022', 'lng': -123.129162, 'lat': 49.292332, 'text': 'Congrats to Tenille being acclaimed as Thompson-OK Branch President! Thank you Vicky for your leadership as PP. I a… https://t.co/LZTBTYocZH'}\n",
            "{'id': 1517608201289490439, 'username': 'WinshawNft', 'created_at': 'Fri Apr 22 20:56:05 +0000 2022', 'lng': -110.0447835, 'lat': 46.6798, 'text': 'The term STILL HERE really bugs me. None of us  left, the real question here is where did yall go when things got tough?'}\n",
            "{'id': 1517608306629660674, 'username': 'phinandme', 'created_at': 'Fri Apr 22 20:56:30 +0000 2022', 'lng': -123.17888409, 'lat': 49.19506922, 'text': 'Heading to Calgary for Coronation 46 @isccasa ~ Boots and Bling ✨ This is also my first out of town event as Empero… https://t.co/FeRGW0hVuH'}\n",
            "{'id': 1517608317241098242, 'username': 'phskenawrightg1', 'created_at': 'Fri Apr 22 20:56:33 +0000 2022', 'lng': -123.123581, 'lat': 49.257639, 'text': 'Like se chocolate  with your Cosmos Vome to the Drive !#StopRussia https://t.co/W349AwfBNA'}\n",
            "{'id': 1517608328540549120, 'username': 'RockyviewAerial', 'created_at': 'Fri Apr 22 20:56:35 +0000 2022', 'lng': -114.00924, 'lat': 51.2746875, 'text': '@AIR1061FM Would be nice to see in our city.'}\n",
            "{'id': 1517608331765944320, 'username': 'KellyWilsonVO', 'created_at': 'Fri Apr 22 20:56:36 +0000 2022', 'lng': -120.882482, 'lat': 47.273022, 'text': '@Its_Tina_timeVO Longest was 6 months. Shortest was a day.'}\n",
            "{'id': 1517608352993402887, 'username': 'CheyenneDumont', 'created_at': 'Fri Apr 22 20:56:41 +0000 2022', 'lng': -106.896931, 'lat': 51.532033, 'text': 'Happy earth day, friends! Here are some of my favorite places to enjoy the earth we were given. 🌲\\U0001fab4🌼🌞🌎 https://t.co/fIv5w2KdjC'}\n",
            "{'id': 1517608383393636353, 'username': 'tmj_IDH_jobs', 'created_at': 'Fri Apr 22 20:56:49 +0000 2022', 'lng': -116.6462445, 'lat': 43.6686454, 'text': 'Click the link in our bio to see currently open Administrative jobs like \"RN OR Circulator PRN\" at West Valley Medi… https://t.co/Fg86aPUHyG'}\n",
            "{'id': 1517608390368890880, 'username': 'JWReichertMN', 'created_at': 'Fri Apr 22 20:56:50 +0000 2022', 'lng': -93.3613205, 'lat': 46.441860500000004, 'text': 'Makes sense, @coug1988 ...'}\n",
            "{'id': 1517608428184559616, 'username': 'TiffanyDgn', 'created_at': 'Fri Apr 22 20:56:59 +0000 2022', 'lng': -114.14326249999999, 'lat': 45.4945515, 'text': '@DaveKotlyar @DrEricDing I really hope they’ll re-examine their mentality if we get a new wave in the USA.'}\n",
            "{'id': 1517608433909968906, 'username': 'LMigueIsaac', 'created_at': 'Fri Apr 22 20:57:01 +0000 2022', 'lng': -92.4646072, 'lat': 44.0228844, 'text': 'Drinking a Grain Belt Nordeast by @GrainBeltBeer @ Olde Brick House — https://t.co/tOiRTFdQpo'}\n",
            "{'id': 1517608461479014400, 'username': 'Troy_A_Hale', 'created_at': 'Fri Apr 22 20:57:07 +0000 2022', 'lng': -110.70934, 'lat': 50.0511765, 'text': '@LancasterBHoney @CanadasLifeline It was literally May 10, 2021. Certificate came yesterday. Almost a year later 🤷🏼\\u200d♂️'}\n",
            "{'id': 1517608465526521859, 'username': 'SuzieCanuck', 'created_at': 'Fri Apr 22 20:57:08 +0000 2022', 'lng': -123.123581, 'lat': 49.257639, 'text': '@IanSeggie Agreed'}\n",
            "{'id': 1517608508585218049, 'username': 'BaRbie_bRuHhh', 'created_at': 'Fri Apr 22 20:57:18 +0000 2022', 'lng': -124.807192, 'lat': 49.243086, 'text': '@_comicsking_ I feel like now your being forced to Share or something like that.. lets just Pray🌈🦋 that the Giving… https://t.co/QOaZ6CQLoV'}\n",
            "{'id': 1517608540449370113, 'username': 'ArtistRuthFlett', 'created_at': 'Fri Apr 22 20:57:26 +0000 2022', 'lng': -110.0447835, 'lat': 46.6798, 'text': 'Would it make my day if someone donated $20,000?  YEAH but $20 is also fine 😊 https://t.co/5NXRHBSFLV'}\n",
            "{'id': 1517608557239144448, 'username': 'lmasse729', 'created_at': 'Fri Apr 22 20:57:30 +0000 2022', 'lng': -97.1526765, 'lat': 49.8538055, 'text': '@farmboy1706 You sure you want to know lol!?'}\n",
            "{'id': 1517608594249633792, 'username': 'curseoftheleafs', 'created_at': 'Fri Apr 22 20:57:39 +0000 2022', 'lng': -122.917508, 'lat': 49.2067515, 'text': '@LeafSingh Playa is nice ! Enjoy!'}\n",
            "{'id': 1517608614583836673, 'username': 'bnietz', 'created_at': 'Fri Apr 22 20:57:44 +0000 2022', 'lng': -93.3613205, 'lat': 46.441860500000004, 'text': '@Finnovski @hoppinfrog I’ve been to the brewery in Akron. Nice place and so many choices! As I recall, right across… https://t.co/T2yXkgv7AT'}\n",
            "{'id': 1517608621005103106, 'username': 'Poncarose1', 'created_at': 'Fri Apr 22 20:57:45 +0000 2022', 'lng': -120.882482, 'lat': 47.273022, 'text': \"😂😂😂 she's going to change the date on her statement now 🤦🏽\\u200d♀️https://t.co/9IulyDLQHG\"}\n",
            "{'id': 1517608645839663104, 'username': 'photodarren', 'created_at': 'Fri Apr 22 20:57:51 +0000 2022', 'lng': -117.928391, 'lat': 50.192672, 'text': \"I'm at the 'flats' at Burton BC, which roughly demarcates upper from lower Arrow Lake. Thus begins 10 days in the C… https://t.co/qQfPeBfytz\"}\n",
            "{'id': 1517608654958039040, 'username': 'jessie420jessie', 'created_at': 'Fri Apr 22 20:57:53 +0000 2022', 'lng': -113.4926175, 'lat': 53.5558195, 'text': '@exposedboyUK Expose asap  let everyone know that I am a submissive sissy faggot an I love sucking big cocks an swa… https://t.co/f1HG6YwsTN'}\n",
            "{'id': 1517608705214189568, 'username': 'shop124street', 'created_at': 'Fri Apr 22 20:58:05 +0000 2022', 'lng': -113.4926175, 'lat': 53.5558195, 'text': 'Did you know it’s #RecordStoreDay tomorrow? Our local record store: @listenrecords is celebrating Record Store Day… https://t.co/XigT6HGAoc'}\n",
            "{'id': 1517608717793038337, 'username': 'SOTAwatch', 'created_at': 'Fri Apr 22 20:58:08 +0000 2022', 'lng': -115.9048, 'lat': 43.7658, 'text': '20:58 K7MK (Jim) on W7I/BC-095 (4700, 1433m, 1 pt) 10.1120 CW: [RBNHole] at WA7LNW 22 WPM 28 dB SNR [RBNHOLE]'}\n",
            "{'id': 1517608720489885697, 'username': 'romanrozumnyj', 'created_at': 'Fri Apr 22 20:58:09 +0000 2022', 'lng': -123.070225, 'lat': 49.3156065, 'text': '@JuliaDavisNews Will we ever learn????🤷🏽\\u200d♂️🤷🤷\\u200d♀️'}\n",
            "{'id': 1517608723883167750, 'username': 'TheRealHotdish', 'created_at': 'Fri Apr 22 20:58:10 +0000 2022', 'lng': -93.3613205, 'lat': 46.441860500000004, 'text': '@throlash HAH one of my coworkers sent this to me earlier today 😂😂'}\n",
            "{'id': 1517608726559170561, 'username': 'Zurawell', 'created_at': 'Fri Apr 22 20:58:10 +0000 2022', 'lng': -113.121093, 'lat': 53.6239735, 'text': '@LeelaAheer Always such a shocker when the snake you’ve decided to cuddle up to wraps his cold blooded self around… https://t.co/09EsoOBTxX'}\n",
            "{'id': 1517608737594384385, 'username': 'psalm139_girl', 'created_at': 'Fri Apr 22 20:58:13 +0000 2022', 'lng': -97.1526765, 'lat': 49.8538055, 'text': 'Yes, weekend oh how I need you!'}\n",
            "{'id': 1517608747798999041, 'username': 'curseoftheleafs', 'created_at': 'Fri Apr 22 20:58:15 +0000 2022', 'lng': -122.917508, 'lat': 49.2067515, 'text': '@PhilSwifty2 I missed it too, first came in years . Glad I did lol'}\n",
            "{'id': 1517608759769501696, 'username': 'brettbergie', 'created_at': 'Fri Apr 22 20:58:18 +0000 2022', 'lng': -114.087851, 'lat': 51.027664, 'text': 'I want this for my city … and yours, unless your city is Delft, in which case, carry on.'}\n",
            "{'id': 1517608784163741702, 'username': 'Chrisloc1701', 'created_at': 'Fri Apr 22 20:58:24 +0000 2022', 'lng': -114.40601, 'lat': 54.12099, 'text': 'Happy Earth Day Everyone! @ Barrhead, Alberta https://t.co/FvfgV57pR1'}\n",
            "{'id': 1517608795073097728, 'username': 'JWReichertMN', 'created_at': 'Fri Apr 22 20:58:27 +0000 2022', 'lng': -93.3613205, 'lat': 46.441860500000004, 'text': '@WhitneyCummings Go back!!'}\n",
            "{'id': 1517608825066385408, 'username': 'barnavit', 'created_at': 'Fri Apr 22 20:58:34 +0000 2022', 'lng': -122.65036044, 'lat': 48.38701861, 'text': \"Learnin' how to drive:)#drive #driverslicense #infiniti #g35 #g35sedan #g35x #Nissan #spring #fatherandson… https://t.co/d1QxNOBuRk\"}\n",
            "{'id': 1517608827226497024, 'username': 'SMHGJohn', 'created_at': 'Fri Apr 22 20:58:34 +0000 2022', 'lng': -113.4926175, 'lat': 53.5558195, 'text': \"Canada's Economic Outlook with Hon. Randy Boissonnault at the @JWMarriottEdm @EdmontonChamber #economic #Yeg https://t.co/7vbMti7jxj\"}\n",
            "{'id': 1517608871501516800, 'username': 'jordanarnold', 'created_at': 'Fri Apr 22 20:58:45 +0000 2022', 'lng': -120.882482, 'lat': 47.273022, 'text': '@rexy Prove it'}\n",
            "{'id': 1517608908549992449, 'username': 'Fiberalpha', 'created_at': 'Fri Apr 22 20:58:54 +0000 2022', 'lng': -97.1526765, 'lat': 49.8538055, 'text': '@kentmaurstad Yeah Tim Peel can FK the right off.'}\n",
            "{'id': 1517608936358264832, 'username': 'peterson_dayne', 'created_at': 'Fri Apr 22 20:59:00 +0000 2022', 'lng': -106.664325, 'lat': 52.1500775, 'text': 'Sometimes you gotta own your mistakes and rip up your hard work💪 not a sign a weakness but a sign of grit https://t.co/uxysmvjzN2'}\n",
            "{'id': 1517608940913102848, 'username': 'regwald', 'created_at': 'Fri Apr 22 20:59:01 +0000 2022', 'lng': -113.4926175, 'lat': 53.5558195, 'text': \"@smytty94ever What's the game link?\"}\n",
            "{'id': 1517609001873133568, 'username': 'krissymmurphy', 'created_at': 'Fri Apr 22 20:59:16 +0000 2022', 'lng': -120.882482, 'lat': 47.273022, 'text': '@GregInORL They’re the ube yogurt  covered pretzels! So good'}\n",
            "{'id': 1517609037545852928, 'username': 'GitHayetsk', 'created_at': 'Fri Apr 22 20:59:25 +0000 2022', 'lng': -122.9112, 'lat': 49.2018, 'text': 'Just posted a photo @ Anvil Centre https://t.co/qFp2g1mtxP'}\n",
            "{'id': 1517609056495542272, 'username': 'tmj_nd_retail', 'created_at': 'Fri Apr 22 20:59:29 +0000 2022', 'lng': -101.0020119, 'lat': 47.5514926, 'text': 'Career tip for landing jobs like \"SALES ASSOCIATE in VELVA, ND S22122\" in ND. Go on informational interviews. The b… https://t.co/c5PlwhAg1X'}\n",
            "{'id': 1517609149076451330, 'username': 'DavidGogoBlues', 'created_at': 'Fri Apr 22 20:59:51 +0000 2022', 'lng': -124.099658, 'lat': 49.1730675, 'text': 'Poor spelling, great tribute'}\n",
            "{'id': 1517609153098706944, 'username': 'VE6EO', 'created_at': 'Fri Apr 22 20:59:52 +0000 2022', 'lng': -114.087851, 'lat': 51.027664, 'text': '@IAmJodiHughes @snickerdydoodle Well, you know men...obtuse..lol'}\n",
            "{'id': 1517609179875319808, 'username': 'Fiberalpha', 'created_at': 'Fri Apr 22 20:59:58 +0000 2022', 'lng': -97.1526765, 'lat': 49.8538055, 'text': '@momsnextdoorx What a hottie.'}\n",
            "{'id': 1517609180915322880, 'username': 'NenaBaker4', 'created_at': 'Fri Apr 22 20:59:59 +0000 2022', 'lng': -111.40065799999999, 'lat': 55.1636035, 'text': '@Caroline011x Good night @sweetdream @caroline💞'}\n",
            "{'id': 1517609195045933057, 'username': 'HortaRob', 'created_at': 'Fri Apr 22 21:00:02 +0000 2022', 'lng': -114.087851, 'lat': 51.027664, 'text': 'This  https://t.co/zxt8uMcRLg.'}\n",
            "{'id': 1517609239547506689, 'username': 'sarahlyndsay_', 'created_at': 'Fri Apr 22 21:00:13 +0000 2022', 'lng': -115.327674, 'lat': 51.066643, 'text': '@SubodhShettyyy @NiftyMetaGirl Haha Subodh!!! What time is it for you now?'}\n",
            "{'id': 1517609266810556418, 'username': 'filmrageyyc', 'created_at': 'Fri Apr 22 21:00:19 +0000 2022', 'lng': -114.087851, 'lat': 51.027664, 'text': 'My man 🤘🤘 https://t.co/6StAorgfXh'}\n",
            "{'id': 1517609289178771457, 'username': 'BaRbie_bRuHhh', 'created_at': 'Fri Apr 22 21:00:25 +0000 2022', 'lng': -124.807192, 'lat': 49.243086, 'text': '@barnacleboytoy Something about golden eyeshadow in recent days...'}\n",
            "{'id': 1517609321210605568, 'username': 'NenaBaker4', 'created_at': 'Fri Apr 22 21:00:32 +0000 2022', 'lng': -111.40065799999999, 'lat': 55.1636035, 'text': '@Shaheer78183643 @Krystyn31197823 Woww!!! So lovely colors😍'}\n",
            "{'id': 1517609321500057600, 'username': '1RovingNomad', 'created_at': 'Fri Apr 22 21:00:32 +0000 2022', 'lng': -123.070225, 'lat': 49.3156065, 'text': 'Add your lobster heads and bodies 🦞......cook until the shells are warm and toasted....all the time making sure not… https://t.co/TNvwNYLCkJ'}\n",
            "{'id': 1517609325300109312, 'username': 'abfarmer1962', 'created_at': 'Fri Apr 22 21:00:33 +0000 2022', 'lng': -114.318005, 'lat': 51.692856500000005, 'text': '@senatrstanford @wheatiepete @AlbertaWheat @CropLifeCanada Good on ya! Keep it up👍'}\n",
            "{'id': 1517609358456094721, 'username': 'sarahlyndsay_', 'created_at': 'Fri Apr 22 21:00:41 +0000 2022', 'lng': -115.327674, 'lat': 51.066643, 'text': '@NiftyMetaGirl Can’t wait!! It’s been too long 😁'}\n",
            "{'id': 1517609368715292673, 'username': 'Sergiojlr', 'created_at': 'Fri Apr 22 21:00:43 +0000 2022', 'lng': -123.123581, 'lat': 49.257639, 'text': \"Bayc and WOW .. he knows what's up!\"}\n",
            "{'id': 1517609369927663621, 'username': 'oiselle_sally', 'created_at': 'Fri Apr 22 21:00:44 +0000 2022', 'lng': -120.882482, 'lat': 47.273022, 'text': 'Never thought I’d be so happy to see trees and mountains and snow… in April! PNW, I love you, I’ll never leave you… https://t.co/7b4G0qMTtp'}\n",
            "{'id': 1517609468946657280, 'username': 'LinoCoria', 'created_at': 'Fri Apr 22 21:01:07 +0000 2022', 'lng': -122.88342399999999, 'lat': 49.300305, 'text': \"I'm finally wearing shorts 🙂 https://t.co/oPjXSO78sA\"}\n",
            "{'id': 1517609482045513730, 'username': 'Bridge_Realty', 'created_at': 'Fri Apr 22 21:01:10 +0000 2022', 'lng': -93.5132, 'lat': 45.0693, 'text': 'Just listed by Sangeeta S. Chopra, GRI in #MapleGrove #MN. 6330 Troy Lane N! Please retweet!… https://t.co/QhdQAgrNad'}\n",
            "{'id': 1517609495966363648, 'username': 'filmrageyyc', 'created_at': 'Fri Apr 22 21:01:14 +0000 2022', 'lng': -114.087851, 'lat': 51.027664, 'text': 'One of my first true loves of cinema!!Cause …… https://t.co/rGkUToCkrI'}\n",
            "{'id': 1517609499602739201, 'username': 'LeftMensch', 'created_at': 'Fri Apr 22 21:01:15 +0000 2022', 'lng': -123.123581, 'lat': 49.257639, 'text': '@cillianwitha @hzomlot @SkyNews Antisemitism is very prevalent. This is not a wild claim given that Jews were subje… https://t.co/vAdTT5rpZr'}\n",
            "{'id': 1517609503864221696, 'username': '_JoeSeppi', 'created_at': 'Fri Apr 22 21:01:16 +0000 2022', 'lng': -114.14326249999999, 'lat': 45.4945515, 'text': '@SamNeher24 It didn’t but your audience is Braves twitter so it will slap'}\n",
            "{'id': 1517609506108104704, 'username': 'shop124street', 'created_at': 'Fri Apr 22 21:01:16 +0000 2022', 'lng': -113.4926175, 'lat': 53.5558195, 'text': 'Beautiful photos @davidbloomphoto 👏  Thank you for sharing! We love seeing the beauty of our street 💛… https://t.co/KnMIfnL3Aw'}\n",
            "{'id': 1517609514366685185, 'username': 'romanrozumnyj', 'created_at': 'Fri Apr 22 21:01:18 +0000 2022', 'lng': -123.070225, 'lat': 49.3156065, 'text': '@kylegriffin1 Loser!!!'}\n",
            "{'id': 1517609519567712256, 'username': 'DavidGogoBlues', 'created_at': 'Fri Apr 22 21:01:19 +0000 2022', 'lng': -124.099658, 'lat': 49.1730675, 'text': '@werthro Joe Walsh'}\n",
            "{'id': 1517609539692027904, 'username': 'xlostasfoundx', 'created_at': 'Fri Apr 22 21:01:24 +0000 2022', 'lng': -97.1526765, 'lat': 49.8538055, 'text': 'PRAY TELL @MARKIPLIERWHAT, A QUEEN OF @MEGAMAN X, DOES ONE MAKE?- SL @Halsey @MegaMan X @Ashnikko | @StJudePLAYLIVE'}\n",
            "{'id': 1517609542925754369, 'username': 'DanTurner84', 'created_at': 'Fri Apr 22 21:01:25 +0000 2022', 'lng': -122.2670745, 'lat': 49.0869965, 'text': \"Every April 22nd I honour Richard Nixon's death by getting drunk and making unpopular decisions. #AnnualJoke\"}\n",
            "{'id': 1517609552316801027, 'username': 'summit_kids', 'created_at': 'Fri Apr 22 21:01:27 +0000 2022', 'lng': -114.087851, 'lat': 51.027664, 'text': 'Will #Winter Ever End?!?It will. And when it does…SUMMIT SUMMER#yyc #Snowfall #yycstorm #yycsnow #yycmoms #kids… https://t.co/wvwjIg9dZd'}\n",
            "{'id': 1517609585791561728, 'username': 'sarahlyndsay_', 'created_at': 'Fri Apr 22 21:01:35 +0000 2022', 'lng': -115.327674, 'lat': 51.066643, 'text': '@SubodhShettyyy @NiftyMetaGirl Oh geeze!! Are you staying awake or going to sleep soon?'}\n",
            "{'id': 1517609588928901121, 'username': 'thisismycity5', 'created_at': 'Fri Apr 22 21:01:36 +0000 2022', 'lng': -113.4926175, 'lat': 53.5558195, 'text': '@stephenRB4 Johnny all the way!!'}\n",
            "{'id': 1517609592502439936, 'username': 'lmasse729', 'created_at': 'Fri Apr 22 21:01:37 +0000 2022', 'lng': -97.1526765, 'lat': 49.8538055, 'text': '@mackmroz Get on it sparky'}\n",
            "{'id': 1517609618062471170, 'username': 'LeftMensch', 'created_at': 'Fri Apr 22 21:01:43 +0000 2022', 'lng': -123.123581, 'lat': 49.257639, 'text': '@cillianwitha @hzomlot @SkyNews Israel is a haven for a marginalized population and if you can’t see that you are p… https://t.co/HAThiVPwE6'}\n",
            "{'id': 1517609682835189761, 'username': 'TrickeryRick', 'created_at': 'Fri Apr 22 21:01:58 +0000 2022', 'lng': -113.4926175, 'lat': 53.5558195, 'text': 'Selfie #yeg https://t.co/XQ9merUt39'}\n",
            "{'id': 1517609700744908801, 'username': 'Fiberalpha', 'created_at': 'Fri Apr 22 21:02:03 +0000 2022', 'lng': -97.1526765, 'lat': 49.8538055, 'text': \"@TroyWestwood Guess Shannon isn't on tv anymore for a reason. Lowry is no where near an NHL head coach. The Jets ne… https://t.co/vvlLFELNVy\"}\n",
            "{'id': 1517609768713691143, 'username': 'chriscrond', 'created_at': 'Fri Apr 22 21:02:19 +0000 2022', 'lng': -97.1526765, 'lat': 49.8538055, 'text': 'Hey @7ElevenCanada is it actually a corporate policy for you to give free drinks to the police or is this the franc… https://t.co/seKPcVyY0a'}\n",
            "{'id': 1517609777005694982, 'username': 'brent_seamons', 'created_at': 'Fri Apr 22 21:02:21 +0000 2022', 'lng': -114.14326249999999, 'lat': 45.4945515, 'text': 'I was able to take a nice, scenic drive through the mountains today. In addition to it being great for my mental he… https://t.co/iZAz2sxS9v'}\n",
            "{'id': 1517609786124156929, 'username': 'PJC_NL', 'created_at': 'Fri Apr 22 21:02:23 +0000 2022', 'lng': -61.74601, 'lat': 56.533744999999996, 'text': \"@DickerShannon Aaaaaawww yes babe, we're definitely airport buddies now after two days of weatherhold\"}\n",
            "{'id': 1517609794739179520, 'username': 'kakaart12', 'created_at': 'Fri Apr 22 21:02:25 +0000 2022', 'lng': -122.53906950000001, 'lat': 49.260204, 'text': '@lullabyprom Sir what stage are you at my good kind awesome SIR I don’t see you in my discord my G. You’ll be amaze… https://t.co/dIFK2ugkla'}\n",
            "{'id': 1517609807699619840, 'username': 'filmrageyyc', 'created_at': 'Fri Apr 22 21:02:28 +0000 2022', 'lng': -114.087851, 'lat': 51.027664, 'text': '@GaylyDreadful Nice 👍'}\n",
            "{'id': 1517609823147372546, 'username': 'LHCowie', 'created_at': 'Fri Apr 22 21:02:32 +0000 2022', 'lng': -97.1526765, 'lat': 49.8538055, 'text': '@blumczynska @JustinTrudeau @ManitobaMuseum Awesome!!!'}\n",
            "{'id': 1517609849546321922, 'username': 'BarbaraMain07', 'created_at': 'Fri Apr 22 21:02:38 +0000 2022', 'lng': -93.3613205, 'lat': 46.441860500000004, 'text': 'If it was most of us lying after being sworn in we would face consequences 🤷\\u200d♀️ once again proof we are no longer a… https://t.co/9YmLipbwMQ'}\n",
            "{'id': 1517609878058987520, 'username': 'CentralABCAC', 'created_at': 'Fri Apr 22 21:02:45 +0000 2022', 'lng': -113.7393455, 'lat': 52.121263, 'text': 'Partnerships like these deserve to be celebrated every day! 🎉🎉🎉 https://t.co/Ij1kHQP1y9'}\n",
            "{'id': 1517609913312178176, 'username': 'cheflucky', 'created_at': 'Fri Apr 22 21:02:53 +0000 2022', 'lng': -99.9844742, 'lat': 49.8410225, 'text': 'Chilli Chutney has Special vegetables  Lamb,Chicken Briyani .Vegan Chick peas Curry. Chole Bhature 😋😋😋 @ Chilli C… https://t.co/QFbDq5nhjy'}\n"
          ]
        },
        {
          "output_type": "display_data",
          "data": {
            "text/plain": [
              "<IPython.core.display.Javascript object>"
            ],
            "application/javascript": [
              "\n",
              "    async function download(id, filename, size) {\n",
              "      if (!google.colab.kernel.accessAllowed) {\n",
              "        return;\n",
              "      }\n",
              "      const div = document.createElement('div');\n",
              "      const label = document.createElement('label');\n",
              "      label.textContent = `Downloading \"${filename}\": `;\n",
              "      div.appendChild(label);\n",
              "      const progress = document.createElement('progress');\n",
              "      progress.max = size;\n",
              "      div.appendChild(progress);\n",
              "      document.body.appendChild(div);\n",
              "\n",
              "      const buffers = [];\n",
              "      let downloaded = 0;\n",
              "\n",
              "      const channel = await google.colab.kernel.comms.open(id);\n",
              "      // Send a message to notify the kernel that we're ready.\n",
              "      channel.send({})\n",
              "\n",
              "      for await (const message of channel.messages) {\n",
              "        // Send a message to notify the kernel that we're ready.\n",
              "        channel.send({})\n",
              "        if (message.buffers) {\n",
              "          for (const buffer of message.buffers) {\n",
              "            buffers.push(buffer);\n",
              "            downloaded += buffer.byteLength;\n",
              "            progress.value = downloaded;\n",
              "          }\n",
              "        }\n",
              "      }\n",
              "      const blob = new Blob(buffers, {type: 'application/binary'});\n",
              "      const a = document.createElement('a');\n",
              "      a.href = window.URL.createObjectURL(blob);\n",
              "      a.download = filename;\n",
              "      div.appendChild(a);\n",
              "      a.click();\n",
              "      div.remove();\n",
              "    }\n",
              "  "
            ]
          },
          "metadata": {}
        },
        {
          "output_type": "display_data",
          "data": {
            "text/plain": [
              "<IPython.core.display.Javascript object>"
            ],
            "application/javascript": [
              "download(\"download_b9afcf31-c5b0-4594-b875-016b9a53fde9\", \"geotweets.csv\", 18987)"
            ]
          },
          "metadata": {}
        },
        {
          "output_type": "stream",
          "name": "stdout",
          "text": [
            "the csv has been downloaded to your local computer. The program has been completed successfully.\n"
          ]
        }
      ],
      "source": [
        "if __name__ == \"__main__\":\n",
        "    # These are provided to you through the Twitter API after you create a account\n",
        "    # register a Twitter App to get the keys and access tokens.\n",
        "    output_file = '/gdrive/My Drive/geotweets.csv'\n",
        "\n",
        "    # Apply for your own Twitter API keys at https://developer.twitter.com/en/apply-for-access\n",
        "    consumer_key = \"UvdbOSmaKCwdwJGwTIiibYw3H\"\n",
        "    consumer_secret = \"JIlekywuDhd7wa62smBYGo3XKL4gPzGksbaEvwP6W4SfO6DqmE\"\n",
        "    access_token = \"1516462627999784962-t0IZSMXSaOVnaM2p59Sr7kIId8vdPc\"\n",
        "    access_token_secret = \"JchAUAnLyMCiR78Y5jUBHfbc6QjkmTs2XeTIi1bfPQCZu\"\n",
        "\n",
        "    myauth = tweepy.OAuthHandler(consumer_key, consumer_secret)\n",
        "    myauth.set_access_token(access_token, access_token_secret)\n",
        "\n",
        "    # LOCATIONS are the longitude, latitude coordinate corners for a box that restricts the\n",
        "    # geographic area from which you will stream tweets. The first two define the southwest\n",
        "    # corner of the box and the second two define the northeast corner of the box.\n",
        "    LOCATIONS = [-124.7771694, 24.520833, -66.947028, 49.384472,  # Contiguous US\n",
        "                 -164.639405, 58.806859, -144.152365, 71.76871,  # Alaska\n",
        "                 -160.161542, 18.776344, -154.641396, 22.878623]  # Hawaii\n",
        "\n",
        "    LOCATIONS1 = [-140.742656, 48.895519, -55.746095, 69.520160]\n",
        " \n",
        "\n",
        "    stream_listener = StreamListener(time_limit=600, file=output_file)\n",
        "    stream = tweepy.Stream(auth=myauth, listener=stream_listener)\n",
        "    stream.filter(locations = LOCATIONS1, languages=['en'])"
      ]
    }
  ],
  "metadata": {
    "colab": {
      "collapsed_sections": [],
      "name": "02_geosearch.ipynb",
      "provenance": [],
      "include_colab_link": true
    },
    "kernelspec": {
      "display_name": "Python 3",
      "language": "python",
      "name": "python3"
    },
    "language_info": {
      "codemirror_mode": {
        "name": "ipython",
        "version": 3
      },
      "file_extension": ".py",
      "mimetype": "text/x-python",
      "name": "python",
      "nbconvert_exporter": "python",
      "pygments_lexer": "ipython3",
      "version": "3.7.4"
    }
  },
  "nbformat": 4,
  "nbformat_minor": 0
}